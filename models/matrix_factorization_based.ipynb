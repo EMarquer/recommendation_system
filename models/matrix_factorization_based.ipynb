{
 "cells": [
  {
   "cell_type": "markdown",
   "metadata": {},
   "source": [
    "# Matrix factorization"
   ]
  },
  {
   "cell_type": "markdown",
   "metadata": {},
   "source": [
    "## Loading the data"
   ]
  },
  {
   "cell_type": "code",
   "execution_count": 30,
   "metadata": {},
   "outputs": [],
   "source": [
    "import numpy as np\n",
    "import pandas as pd\n",
    "import re\n",
    "from surprise import SVD,NMF,SVDpp\n",
    "from surprise import Dataset\n",
    "from surprise import Reader\n",
    "from surprise import NormalPredictor\n",
    "\n",
    "\n",
    "\n",
    "from surprise.model_selection import cross_validate\n",
    "from surprise.model_selection import train_test_split\n",
    "from surprise import accuracy\n",
    "\n",
    "\n"
   ]
  },
  {
   "cell_type": "code",
   "execution_count": 31,
   "metadata": {},
   "outputs": [],
   "source": [
    "DATASET_PATH = \"../Data2.csv\"\n",
    "COLUMNS = [\"id_review\", \"rating\", \"review_title\", \"review_text\", \"user_pseudo\", \"user_location\", \"hotel_id\", \"date_stayed\", \"date_review\"]"
   ]
  },
  {
   "cell_type": "code",
   "execution_count": 32,
   "metadata": {},
   "outputs": [],
   "source": [
    "RE = re.compile(r\"^(\\d+);;(\\d.\\d);;“(.*)”;;(.*);;(.*);;(.*);;(\\d*);;(.*);;(.*)$\")\n"
   ]
  },
  {
   "cell_type": "code",
   "execution_count": 33,
   "metadata": {},
   "outputs": [
    {
     "name": "stdout",
     "output_type": "stream",
     "text": [
      "Chargement des données fini, 878554 correctly parsed lines, 14 incorrectly parsed lines\n"
     ]
    }
   ],
   "source": [
    "with open(DATASET_PATH, 'r', encoding=\"utf8\") as f:\n",
    "    data = []\n",
    "    broken_lines = 0\n",
    "    for line in f:\n",
    "        match = RE.fullmatch(line.strip())\n",
    "        if match:\n",
    "            fields = match.groups()\n",
    "\n",
    "            # if the correct number of fields where found\n",
    "            if len(fields) == len(COLUMNS):\n",
    "                data.append({column: field for column, field in zip(COLUMNS, fields)})\n",
    "            else:\n",
    "                broken_lines += 1\n",
    "                #print(\"Not the correct number of match on this line:\")\n",
    "                #print(line)\n",
    "        else:\n",
    "            broken_lines += 1\n",
    "            #print(\"No match on this line:\")\n",
    "            #print(line)\n",
    "            \n",
    "    \n",
    "  # print(f\"{len(data)} correctly parsed lines, {broken_lines} incorrectly parsed lines\")\n",
    "#df = pd.read_csv(DATASET_ARCHIVE_PATH, sep='\\;\\;', names=COLUMNS, header=None, error_bad_lines=False)\n",
    "#clear_output()\n",
    "df = pd.DataFrame.from_records(data)\n",
    "print(f\"Chargement des données fini, {len(data)} correctly parsed lines, {broken_lines} incorrectly parsed lines\")\n"
   ]
  },
  {
   "cell_type": "code",
   "execution_count": 34,
   "metadata": {},
   "outputs": [
    {
     "data": {
      "text/html": [
       "<div>\n",
       "<style scoped>\n",
       "    .dataframe tbody tr th:only-of-type {\n",
       "        vertical-align: middle;\n",
       "    }\n",
       "\n",
       "    .dataframe tbody tr th {\n",
       "        vertical-align: top;\n",
       "    }\n",
       "\n",
       "    .dataframe thead th {\n",
       "        text-align: right;\n",
       "    }\n",
       "</style>\n",
       "<table border=\"1\" class=\"dataframe\">\n",
       "  <thead>\n",
       "    <tr style=\"text-align: right;\">\n",
       "      <th></th>\n",
       "      <th>id_review</th>\n",
       "      <th>rating</th>\n",
       "      <th>review_title</th>\n",
       "      <th>review_text</th>\n",
       "      <th>user_pseudo</th>\n",
       "      <th>user_location</th>\n",
       "      <th>hotel_id</th>\n",
       "      <th>date_stayed</th>\n",
       "      <th>date_review</th>\n",
       "    </tr>\n",
       "  </thead>\n",
       "  <tbody>\n",
       "    <tr>\n",
       "      <td>684790</td>\n",
       "      <td>87788597</td>\n",
       "      <td>2.0</td>\n",
       "      <td>Do not stay here!!!!</td>\n",
       "      <td>My husband and I stayed here for the weekend t...</td>\n",
       "      <td>Angie2003</td>\n",
       "      <td>Charleston, West Virginia</td>\n",
       "      <td>94171</td>\n",
       "      <td>November 2010</td>\n",
       "      <td>November 21, 2010</td>\n",
       "    </tr>\n",
       "  </tbody>\n",
       "</table>\n",
       "</div>"
      ],
      "text/plain": [
       "       id_review rating          review_title  \\\n",
       "684790  87788597    2.0  Do not stay here!!!!   \n",
       "\n",
       "                                              review_text user_pseudo  \\\n",
       "684790  My husband and I stayed here for the weekend t...   Angie2003   \n",
       "\n",
       "                    user_location hotel_id    date_stayed        date_review  \n",
       "684790  Charleston, West Virginia    94171  November 2010  November 21, 2010  "
      ]
     },
     "execution_count": 34,
     "metadata": {},
     "output_type": "execute_result"
    }
   ],
   "source": [
    "df = df.dropna(subset=['rating','hotel_id'])\n",
    "df.sample()"
   ]
  },
  {
   "cell_type": "markdown",
   "metadata": {},
   "source": [
    "## Encoding user"
   ]
  },
  {
   "cell_type": "code",
   "execution_count": 35,
   "metadata": {},
   "outputs": [],
   "source": [
    "df['user_pseudo'] = df['user_pseudo'].fillna(\"Anon\")"
   ]
  },
  {
   "cell_type": "code",
   "execution_count": 36,
   "metadata": {},
   "outputs": [
    {
     "data": {
      "text/plain": [
       "array([19989])"
      ]
     },
     "execution_count": 36,
     "metadata": {},
     "output_type": "execute_result"
    }
   ],
   "source": [
    "from sklearn import preprocessing\n",
    "\n",
    "le_user  = preprocessing.LabelEncoder()\n",
    "le_user.fit(df['user_pseudo'].values)\n",
    "\n",
    "le_user.transform([\"Anon\"])"
   ]
  },
  {
   "cell_type": "code",
   "execution_count": 37,
   "metadata": {},
   "outputs": [],
   "source": [
    "df['user_pseudo'] = le_user.transform(df['user_pseudo'].values)\n",
    "df['user_pseudo']  = df['user_pseudo'].astype(int)"
   ]
  },
  {
   "cell_type": "code",
   "execution_count": 38,
   "metadata": {},
   "outputs": [],
   "source": [
    "USER_COUNT = len(le_user.classes_)"
   ]
  },
  {
   "cell_type": "code",
   "execution_count": 39,
   "metadata": {},
   "outputs": [
    {
     "data": {
      "text/html": [
       "<div>\n",
       "<style scoped>\n",
       "    .dataframe tbody tr th:only-of-type {\n",
       "        vertical-align: middle;\n",
       "    }\n",
       "\n",
       "    .dataframe tbody tr th {\n",
       "        vertical-align: top;\n",
       "    }\n",
       "\n",
       "    .dataframe thead th {\n",
       "        text-align: right;\n",
       "    }\n",
       "</style>\n",
       "<table border=\"1\" class=\"dataframe\">\n",
       "  <thead>\n",
       "    <tr style=\"text-align: right;\">\n",
       "      <th></th>\n",
       "      <th>id_review</th>\n",
       "      <th>rating</th>\n",
       "      <th>review_title</th>\n",
       "      <th>review_text</th>\n",
       "      <th>user_pseudo</th>\n",
       "      <th>user_location</th>\n",
       "      <th>hotel_id</th>\n",
       "      <th>date_stayed</th>\n",
       "      <th>date_review</th>\n",
       "    </tr>\n",
       "  </thead>\n",
       "  <tbody>\n",
       "    <tr>\n",
       "      <td>322362</td>\n",
       "      <td>122024343</td>\n",
       "      <td>5.0</td>\n",
       "      <td>Great hotel; excellent service</td>\n",
       "      <td>We did a two-night weekend getaway to celebrat...</td>\n",
       "      <td>252441</td>\n",
       "      <td>Milwaukee, Wisconsin</td>\n",
       "      <td>293203</td>\n",
       "      <td>December 2011</td>\n",
       "      <td>December 23, 2011</td>\n",
       "    </tr>\n",
       "  </tbody>\n",
       "</table>\n",
       "</div>"
      ],
      "text/plain": [
       "        id_review rating                    review_title  \\\n",
       "322362  122024343    5.0  Great hotel; excellent service   \n",
       "\n",
       "                                              review_text  user_pseudo  \\\n",
       "322362  We did a two-night weekend getaway to celebrat...       252441   \n",
       "\n",
       "               user_location hotel_id    date_stayed        date_review  \n",
       "322362  Milwaukee, Wisconsin   293203  December 2011  December 23, 2011  "
      ]
     },
     "execution_count": 39,
     "metadata": {},
     "output_type": "execute_result"
    }
   ],
   "source": [
    "df.sample()"
   ]
  },
  {
   "cell_type": "markdown",
   "metadata": {},
   "source": [
    "# Encoding hotel"
   ]
  },
  {
   "cell_type": "code",
   "execution_count": 40,
   "metadata": {},
   "outputs": [
    {
     "data": {
      "text/plain": [
       "LabelEncoder()"
      ]
     },
     "execution_count": 40,
     "metadata": {},
     "output_type": "execute_result"
    }
   ],
   "source": [
    "le_hotel =  preprocessing.LabelEncoder()\n",
    "le_hotel.fit(df['hotel_id'].values)\n"
   ]
  },
  {
   "cell_type": "code",
   "execution_count": 41,
   "metadata": {},
   "outputs": [],
   "source": [
    "df['hotel_id'] = le_hotel.transform(df['hotel_id'].values)\n",
    "df['hotel_id'] = df['hotel_id'].astype(int) "
   ]
  },
  {
   "cell_type": "code",
   "execution_count": 42,
   "metadata": {},
   "outputs": [],
   "source": [
    "HOTEL_COUNT = len(le_hotel.classes_)\n"
   ]
  },
  {
   "cell_type": "markdown",
   "metadata": {},
   "source": [
    "## Matrix factorization Algorithms\n"
   ]
  },
  {
   "cell_type": "code",
   "execution_count": 14,
   "metadata": {},
   "outputs": [
    {
     "data": {
      "text/html": [
       "<div>\n",
       "<style scoped>\n",
       "    .dataframe tbody tr th:only-of-type {\n",
       "        vertical-align: middle;\n",
       "    }\n",
       "\n",
       "    .dataframe tbody tr th {\n",
       "        vertical-align: top;\n",
       "    }\n",
       "\n",
       "    .dataframe thead th {\n",
       "        text-align: right;\n",
       "    }\n",
       "</style>\n",
       "<table border=\"1\" class=\"dataframe\">\n",
       "  <thead>\n",
       "    <tr style=\"text-align: right;\">\n",
       "      <th></th>\n",
       "      <th>rating</th>\n",
       "      <th>user_pseudo</th>\n",
       "      <th>hotel_id</th>\n",
       "    </tr>\n",
       "  </thead>\n",
       "  <tbody>\n",
       "    <tr>\n",
       "      <td>392836</td>\n",
       "      <td>5.0</td>\n",
       "      <td>JenBenG</td>\n",
       "      <td>224279</td>\n",
       "    </tr>\n",
       "    <tr>\n",
       "      <td>474506</td>\n",
       "      <td>1.0</td>\n",
       "      <td>angelkfire</td>\n",
       "      <td>108158</td>\n",
       "    </tr>\n",
       "    <tr>\n",
       "      <td>210010</td>\n",
       "      <td>5.0</td>\n",
       "      <td>Lovetoroadtrip82</td>\n",
       "      <td>93507</td>\n",
       "    </tr>\n",
       "    <tr>\n",
       "      <td>495283</td>\n",
       "      <td>4.0</td>\n",
       "      <td>scotsroadwarrior</td>\n",
       "      <td>498304</td>\n",
       "    </tr>\n",
       "    <tr>\n",
       "      <td>280057</td>\n",
       "      <td>3.0</td>\n",
       "      <td>BRH949</td>\n",
       "      <td>87618</td>\n",
       "    </tr>\n",
       "    <tr>\n",
       "      <td>337464</td>\n",
       "      <td>4.0</td>\n",
       "      <td>Hannah F</td>\n",
       "      <td>77852</td>\n",
       "    </tr>\n",
       "    <tr>\n",
       "      <td>770007</td>\n",
       "      <td>5.0</td>\n",
       "      <td>annasmom88</td>\n",
       "      <td>225873</td>\n",
       "    </tr>\n",
       "    <tr>\n",
       "      <td>678279</td>\n",
       "      <td>5.0</td>\n",
       "      <td>roadie80</td>\n",
       "      <td>100582</td>\n",
       "    </tr>\n",
       "    <tr>\n",
       "      <td>739839</td>\n",
       "      <td>5.0</td>\n",
       "      <td>dbtraveler58</td>\n",
       "      <td>123022</td>\n",
       "    </tr>\n",
       "    <tr>\n",
       "      <td>116428</td>\n",
       "      <td>2.0</td>\n",
       "      <td>LKou</td>\n",
       "      <td>1214829</td>\n",
       "    </tr>\n",
       "    <tr>\n",
       "      <td>617101</td>\n",
       "      <td>5.0</td>\n",
       "      <td></td>\n",
       "      <td>112293</td>\n",
       "    </tr>\n",
       "    <tr>\n",
       "      <td>125453</td>\n",
       "      <td>4.0</td>\n",
       "      <td>Barore59</td>\n",
       "      <td>249711</td>\n",
       "    </tr>\n",
       "    <tr>\n",
       "      <td>417352</td>\n",
       "      <td>5.0</td>\n",
       "      <td>RachelB54</td>\n",
       "      <td>224280</td>\n",
       "    </tr>\n",
       "    <tr>\n",
       "      <td>305456</td>\n",
       "      <td>4.0</td>\n",
       "      <td>auswanderer</td>\n",
       "      <td>87645</td>\n",
       "    </tr>\n",
       "    <tr>\n",
       "      <td>492693</td>\n",
       "      <td>3.0</td>\n",
       "      <td>dmurphny</td>\n",
       "      <td>858424</td>\n",
       "    </tr>\n",
       "    <tr>\n",
       "      <td>70048</td>\n",
       "      <td>4.0</td>\n",
       "      <td>mastdis</td>\n",
       "      <td>112062</td>\n",
       "    </tr>\n",
       "    <tr>\n",
       "      <td>586849</td>\n",
       "      <td>1.0</td>\n",
       "      <td>swickie</td>\n",
       "      <td>478253</td>\n",
       "    </tr>\n",
       "    <tr>\n",
       "      <td>451735</td>\n",
       "      <td>5.0</td>\n",
       "      <td>suegalway</td>\n",
       "      <td>79971</td>\n",
       "    </tr>\n",
       "    <tr>\n",
       "      <td>54259</td>\n",
       "      <td>4.0</td>\n",
       "      <td>LilRobb</td>\n",
       "      <td>93517</td>\n",
       "    </tr>\n",
       "    <tr>\n",
       "      <td>63189</td>\n",
       "      <td>3.0</td>\n",
       "      <td>JocelynK</td>\n",
       "      <td>99766</td>\n",
       "    </tr>\n",
       "    <tr>\n",
       "      <td>332152</td>\n",
       "      <td>3.0</td>\n",
       "      <td>atlbeachbum81</td>\n",
       "      <td>87638</td>\n",
       "    </tr>\n",
       "    <tr>\n",
       "      <td>803046</td>\n",
       "      <td>4.0</td>\n",
       "      <td>Sparky1954</td>\n",
       "      <td>89382</td>\n",
       "    </tr>\n",
       "    <tr>\n",
       "      <td>344331</td>\n",
       "      <td>4.0</td>\n",
       "      <td>hocampob</td>\n",
       "      <td>223051</td>\n",
       "    </tr>\n",
       "    <tr>\n",
       "      <td>1520</td>\n",
       "      <td>5.0</td>\n",
       "      <td>ethansmom66</td>\n",
       "      <td>283873</td>\n",
       "    </tr>\n",
       "    <tr>\n",
       "      <td>472389</td>\n",
       "      <td>2.0</td>\n",
       "      <td>Gallowayfamily</td>\n",
       "      <td>99499</td>\n",
       "    </tr>\n",
       "    <tr>\n",
       "      <td>854131</td>\n",
       "      <td>5.0</td>\n",
       "      <td>WestEndTraveler15</td>\n",
       "      <td>84125</td>\n",
       "    </tr>\n",
       "    <tr>\n",
       "      <td>371274</td>\n",
       "      <td>2.0</td>\n",
       "      <td>lawyergirl07</td>\n",
       "      <td>119443</td>\n",
       "    </tr>\n",
       "    <tr>\n",
       "      <td>770886</td>\n",
       "      <td>5.0</td>\n",
       "      <td>adee74</td>\n",
       "      <td>620703</td>\n",
       "    </tr>\n",
       "    <tr>\n",
       "      <td>637270</td>\n",
       "      <td>1.0</td>\n",
       "      <td>SFINTCONCRAP</td>\n",
       "      <td>676408</td>\n",
       "    </tr>\n",
       "    <tr>\n",
       "      <td>552616</td>\n",
       "      <td>3.0</td>\n",
       "      <td>connieretired</td>\n",
       "      <td>240060</td>\n",
       "    </tr>\n",
       "  </tbody>\n",
       "</table>\n",
       "</div>"
      ],
      "text/plain": [
       "       rating        user_pseudo hotel_id\n",
       "392836    5.0            JenBenG   224279\n",
       "474506    1.0         angelkfire   108158\n",
       "210010    5.0   Lovetoroadtrip82    93507\n",
       "495283    4.0   scotsroadwarrior   498304\n",
       "280057    3.0             BRH949    87618\n",
       "337464    4.0           Hannah F    77852\n",
       "770007    5.0         annasmom88   225873\n",
       "678279    5.0           roadie80   100582\n",
       "739839    5.0       dbtraveler58   123022\n",
       "116428    2.0               LKou  1214829\n",
       "617101    5.0                      112293\n",
       "125453    4.0           Barore59   249711\n",
       "417352    5.0          RachelB54   224280\n",
       "305456    4.0        auswanderer    87645\n",
       "492693    3.0           dmurphny   858424\n",
       "70048     4.0            mastdis   112062\n",
       "586849    1.0            swickie   478253\n",
       "451735    5.0          suegalway    79971\n",
       "54259     4.0            LilRobb    93517\n",
       "63189     3.0           JocelynK    99766\n",
       "332152    3.0      atlbeachbum81    87638\n",
       "803046    4.0         Sparky1954    89382\n",
       "344331    4.0           hocampob   223051\n",
       "1520      5.0        ethansmom66   283873\n",
       "472389    2.0     Gallowayfamily    99499\n",
       "854131    5.0  WestEndTraveler15    84125\n",
       "371274    2.0       lawyergirl07   119443\n",
       "770886    5.0             adee74   620703\n",
       "637270    1.0       SFINTCONCRAP   676408\n",
       "552616    3.0      connieretired   240060"
      ]
     },
     "execution_count": 14,
     "metadata": {},
     "output_type": "execute_result"
    }
   ],
   "source": [
    "\n",
    "\n",
    "\n",
    "rating_df = pd.DataFrame()\n",
    "rating_df[\"rating\"] = df['rating']\n",
    "rating_df[\"user_pseudo\"] = df[\"user_pseudo\"]\n",
    "rating_df[\"hotel_id\"] = df[\"hotel_id\"]\n",
    "\n",
    "rating_df.sample(30)"
   ]
  },
  {
   "cell_type": "code",
   "execution_count": 15,
   "metadata": {},
   "outputs": [],
   "source": [
    "# A reader is still needed but only the rating_scale param is requiered.\n",
    "reader = Reader(rating_scale=(0, 5))\n",
    "\n",
    "# The columns must correspond to user id, item id and ratings (in that order).\n",
    "data = Dataset.load_from_df(df[['user_pseudo', 'hotel_id', 'rating']], reader)\n"
   ]
  },
  {
   "cell_type": "markdown",
   "metadata": {},
   "source": [
    " ## Intrinsec measure"
   ]
  },
  {
   "cell_type": "code",
   "execution_count": 16,
   "metadata": {},
   "outputs": [
    {
     "name": "stdout",
     "output_type": "stream",
     "text": [
      "RMSE: 1.0551\n",
      "SVD Test 1.0551149350601863\n",
      "RMSE: 0.7276\n",
      "SVD Train 0.7275992564041589\n",
      "RMSE: 1.2278\n",
      "NMF Test 1.227826425916374\n",
      "RMSE: 0.3931\n",
      "NMF Train 0.3931116842867549\n"
     ]
    }
   ],
   "source": [
    "# sample random trainset and testset\n",
    "# test set is made of 15% of the ratings.\n",
    "trainset, testset = train_test_split(data, test_size=.15)\n",
    "\n",
    "algos = [(SVD(),\"SVD\"),(NMF(),\"NMF\")]\n",
    "\n",
    "for algo,name in algos:\n",
    "    algo.fit(trainset)\n",
    "    predictions = algo.test(testset)\n",
    "    print(name,\"Test\",accuracy.rmse(predictions))\n",
    "    predictions = algo.test(trainset.build_testset())\n",
    "    print(name,\"Train\",accuracy.rmse(predictions))"
   ]
  },
  {
   "cell_type": "markdown",
   "metadata": {},
   "source": [
    "## Model creation"
   ]
  },
  {
   "cell_type": "code",
   "execution_count": 17,
   "metadata": {},
   "outputs": [],
   "source": [
    "from joblib import dump, load"
   ]
  },
  {
   "cell_type": "code",
   "execution_count": 18,
   "metadata": {},
   "outputs": [
    {
     "data": {
      "text/plain": [
       "Prediction(uid=19989, iid=2, r_ui=None, est=3.9362281658270293, details={'was_impossible': False})"
      ]
     },
     "execution_count": 18,
     "metadata": {},
     "output_type": "execute_result"
    }
   ],
   "source": [
    "trainset = data.build_full_trainset()\n",
    "algo = SVD()\n",
    "algo.fit(trainset)\n",
    "algo.predict(19989,2)"
   ]
  },
  {
   "cell_type": "code",
   "execution_count": 19,
   "metadata": {},
   "outputs": [
    {
     "data": {
      "text/plain": [
       "['svd.joblib']"
      ]
     },
     "execution_count": 19,
     "metadata": {},
     "output_type": "execute_result"
    }
   ],
   "source": [
    "dump(algo, 'svd.joblib') "
   ]
  },
  {
   "cell_type": "code",
   "execution_count": 43,
   "metadata": {},
   "outputs": [
    {
     "data": {
      "text/plain": [
       "['le_hotel.joblib']"
      ]
     },
     "execution_count": 43,
     "metadata": {},
     "output_type": "execute_result"
    }
   ],
   "source": [
    "dump(le_hotel,'le_hotel.joblib')"
   ]
  },
  {
   "cell_type": "code",
   "execution_count": 44,
   "metadata": {},
   "outputs": [
    {
     "data": {
      "text/plain": [
       "['le_user.joblib']"
      ]
     },
     "execution_count": 44,
     "metadata": {},
     "output_type": "execute_result"
    }
   ],
   "source": [
    "dump(le_user,'le_user.joblib')"
   ]
  },
  {
   "cell_type": "code",
   "execution_count": null,
   "metadata": {},
   "outputs": [],
   "source": []
  }
 ],
 "metadata": {
  "kernelspec": {
   "display_name": "Python 3",
   "language": "python",
   "name": "python3"
  },
  "language_info": {
   "codemirror_mode": {
    "name": "ipython",
    "version": 3
   },
   "file_extension": ".py",
   "mimetype": "text/x-python",
   "name": "python",
   "nbconvert_exporter": "python",
   "pygments_lexer": "ipython3",
   "version": "3.7.4"
  }
 },
 "nbformat": 4,
 "nbformat_minor": 2
}
