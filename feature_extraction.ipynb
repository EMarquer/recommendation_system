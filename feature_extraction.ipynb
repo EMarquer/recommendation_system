{
 "nbformat": 4,
 "nbformat_minor": 2,
 "metadata": {
  "language_info": {
   "name": "python",
   "codemirror_mode": {
    "name": "ipython",
    "version": 3
   },
   "version": "3.7.3-final"
  },
  "orig_nbformat": 2,
  "file_extension": ".py",
  "mimetype": "text/x-python",
  "name": "python",
  "npconvert_exporter": "python",
  "pygments_lexer": "ipython3",
  "version": 3,
  "kernelspec": {
   "name": "python3",
   "display_name": "Python 3"
  }
 },
 "cells": [
  {
   "cell_type": "markdown",
   "execution_count": null,
   "metadata": {},
   "outputs": [],
   "source": [
    "# Extraction de attributs\n",
    "## Liste des attributs et des champs sur lesquels ils sont basés\n",
    "- identifiant avis (`id_review`): supprimer, remplacer par l'identifiant de la ligne donnée\n",
    "- identifiant hotel (`hotel_id`)\n",
    "- localisation (`user_location`)\n",
    "    - dict\n",
    "- score (`rating`)\n",
    "    - tel quel ($[0,5]$)\n",
    "- nom utilisateur (`user_pseudo`)\n",
    "    - tel quel (text) ou label-encodé\n",
    "- expertise\n",
    "    - nb d'avis par utilisateur\n",
    "    - (log du nb d'avis par utilisateur)\n",
    "    - tanh du nb d'avis par utilisateur\n",
    "- titre (`review_title`) & text (`review_text`) review\n",
    "    - sentiment analysis\n",
    "        basé sur la moyenne des score sur les mots reconnus\n",
    "        - positivité score\n",
    "        - negativité score\n",
    "        - objectivité score\n",
    "    - keywords: ???\n",
    "- date postage (`date_review`) & sejour (`date_stayed`)\n",
    "    - écart séjour et avis, écart séjour avec la date \"actuelle\" (date la plus récente du dataset)"
   ]
  },
  {
   "cell_type": "code",
   "execution_count": 53,
   "metadata": {},
   "outputs": [],
   "source": [
    "#imports\n",
    "import pandas as pd, seaborn as sns, matplotlib.pyplot as plt, numpy as np\n",
    "from sklearn import preprocessing\n",
    "from IPython.display import clear_output\n",
    "import re"
   ]
  },
  {
   "cell_type": "code",
   "execution_count": 56,
   "metadata": {},
   "outputs": [],
   "source": [
    "#paths\n",
    "DATASET_PATH = \"./data2.csv\"\n",
    "COLUMNS = [\"id_review\", \"rating\", \"review_title\", \"review_text\", \"user_pseudo\", \"user_location\", \"hotel_id\", \"date_stayed\", \"date_review\"]"
   ]
  },
  {
   "cell_type": "code",
   "execution_count": 66,
   "metadata": {},
   "outputs": [],
   "source": [
    "RE = re.compile(r\"^(\\d+);;(\\d.\\d);;“(.*)”;;(.*);;(.*);;(.*);;(\\d*);;(.*);;(.*)$\")\n",
    "#147639004;;\n",
    "#5.0;;\n",
    "#“My home away from home!”;;\n",
    "#On every [...] for every meal!);;\n",
    "#Maureen V;;\n",
    "#Sydney, New South Wales, Australia;;\n",
    "#93338;;\n",
    "#December 2012;;\n",
    "#December 17, 2012"
   ]
  },
  {
   "cell_type": "code",
   "execution_count": 74,
   "metadata": {},
   "outputs": [
    {
     "name": "stdout",
     "output_type": "stream",
     "text": "No match on this line:\n{\"ratings\": {\"overall\": 1.0, \"service\": 1.0}, \"title\": \"\\u201cThis is a Shady Unprofessional Place\\u201d\", \"text\": \"Please note that I have not stayed here yet. My experience is based on the pre stay experience I had with this company. My stay was supposed to be Oct 5-11 2008 I booked this Loft because 1st- was in Soho, 2nd the pictures looked good, 3rd the price was good, 4- I was contacted immediately. I never should have done it. They require you prepay on a credit card and sign a \\\"lease.\\\" I should have known better by the tone of the emails. Unprofessional, Lacking in tact or intelligently written. The terms of the contract are short. Basically (but vaguely) It says cancelation policy is within outside of 6 weeks prior to the stay a refund of 75% will be given back if re-rented. I didn't think we'd cancel. Well, after reading all of the horrible reviews on Trip Advisor and other sites - I canceled. I immediately emailed the 2 people I dealt with told them about the reviews. One review stated that they actually book private partys in the \\\"commom\\\" space and they can go all night. The guests aren't allowed to be in that space during the party. As well it said, the party guests use the same bathrooms as the overnight guests. Plus, the rooms do not lock. One reviewer even said the day he arrived his bed had been used and sheets were not changed. Gross! This was not the mature, private, clean and comfortable arrangement I wanted. In my cancelation letter I mentioned and asked if there would be parties booked. I recieved confirmation that there could be a party booked. I was contacted not by the original people who took care of me( we'll call them kevin/sales and James/rental agreeme\\ t)But by the Director of the Loft. After some correspondence, the Director, we'll call him Leroy, stated that he might have a private apt. I was very much interested in it and wanted details. It would be easier to just change locations instead of cancel. He didn/t get back to me. I had to be the one to initiate all communication each and ever time. Plus it took 3 or 4 emails to get him to answer. He finally, after a week said he found a place. I wanted details. After 3 days, still no details. He kept sending one sentence emails like \\\"don't worry\\\" etc etc. After 4 emails and 3 days of asking, I finally emailed and stated that I wanted the address and details of the place by end of day. He emailed back and said\\\" don't worrry, call me at lunchtime tomorrow\\\" I did what he said - he answered the phone and put me off.. again. He said he was busy and to call him around closing time. I agreed. However after all of the correspondence, unprofessional behavior, abrupt and strange emails, I decided to cancel. His response?: \\\"No problem\\\" I had since sent 2 emails asking the status of my refund. No reply. I have a feeling even if they did re-rent my space - I may not see my money. Very very shady. by the way, this location was found through VacationRentals.com which in itself does not have a good reputation according to reviews. Do yourself a favor, stay at a well known reputable hotel. It's worth it. As of now, I have booked a hotel for the week and will have to shell out another 2000K. The Soho Loft cost 299 per night plus tax.. ugh.\", \"author\": {\"username\": \"Princessdog9\", \"num_reviews\": 1, \"id\": \"D194FF21593550FE6FCBF76C7B270C3C\", \"location\": \"Orange County\", \"num_helpful_votes\": 8}, \"date_stayed\": \"August 2008\", \"offering_id\": 665814, \"num_helpful_votes\": 8, \"date\": \"August 29, 2008\", \"id\": 19513823, \"via_mobile\": false}\n\nNo match on this line:\n\n\nNo match on this line:\n{\"ratings\": {\"service\": 5.0, \"cleanliness\": 5.0, \"overall\": 5.0, \"value\": 5.0, \"location\": 5.0, \"sleep_quality\": 5.0, \"rooms\": 5.0}, \"title\": \"\\u201cGreat hotel - Great Staff - Great Value in NY\\u201d\", \"text\": \"Unfortunately, my work requires me to be away from my home, wife and children nearly three-quarters of the year. For the last 5 to 6 years at least, much of that time has been spent in New York at the Lombardy. I can't say enough good things about the hotel and its people. I only reserve the one bedroom suites, so I cannot comment on the standard rooms. The suites are all different and decorated to each owner's individual tastes. I like that. Some of the owners' tastes align with my own and some don't. If I am assigned a suite which is decorated too far out of whack with my sensibilities, I just ask to be moved. It is never a problem, and the front desk staff doesn't act offended, because everybody gets that I'm not saying it's a bad room,but rather, that it's just not to my taste. Not only am I always given a different room, if available, but it is always done with great courtesy and a smile. Try getting that at a chain hotel. The suites all have fully equipped kitchens. Yes, as others have complained on this board, the kitchens are small, and you have to bring your own coffee. Well, remember, this is not your home - this is an apartment style hotel and most apartment kitchens in New York are small. As for the coffee, I have to buy mine own at home too, so I'm OK with this. The rooms always have filters, so you just need some coffee. Otherwise, the kitchens are clean and fully functional. If a particular type of glass, bowl, utensil, etc. which you want\\ eed is not there, call housekeeping, ask for it and you will get it. The location on 56th, between Park and Lex is great. Lots of great restaurants nearby and very safe to walk around. Subway is just a couple of blocks away. Now, here's what really makes the Lombardy a great place to spend time and a great value - the people who work there. As I stated above, I'm away from home a lot, and I miss my family. No matter how many people you may know and see in whatever city you're working in, being on the road is lonely. I see that the folks at the Lombardy are sensitive to this fact, not just with respect to me but to all of the business travelers I see there. The guys at the front desk never fail to look up and say hello or quickly ask if I had a good day or dinner, even when I can clearly see they are busy with other things. The bellmen do the same. This is what my family does when I'm at home, and it make me feel better while I'm on the road, because I feel like somebody actually knows I'm there. It's basic human courtesy, and the Lombardy delivers it. While I am fortunate to know the names of many of the great employees at the Lombardy, I will not mention any here, because I will inevitably forget a few and, more importantly, do not want to gloss over the many, many folks working behind the scenes whom I never meet but know are also there working hard to make my stays so enjoyable. Lastly, I have seen a few posts on this board which suggest the Lombardy is no place for children. Not true. Like everywhere else I enjoy going, it is just no place for disrespectful little brats. Every year, I am lucky enough to get four to five days to spend with my family in New York in December. I have a three year old son and a nine year old daughter. The first time I brought them to the Lombardy several years ago, I was not sure what to expect, particularly since I forgot to mention I was bringing children when I made the reservation. They were treated spectacularly. Nobody at the front desk gave me the long face I so often see when I check into nice hotels with my kids in tow. Moreover, my daughter was not spoken down to, but instead treated with respect and courtesy (albeit the type you would expect in view of her age) just as any other guest. I have since had the good fortune to take my daughter back with me on several trips, and she loves the place. Several of the Lombardy staff ask me about her when I am there, and she asks me about each of them by name when I come home. The connection between the hotel and home significantly eases the burden of travel. My family is headed back to the Lombardy in December for a few days, and we already know it will be a great trip because we will be staying at a wonderful place in a terrific city.\", \"author\": {\"username\": \"Sgaffigan\", \"num_reviews\": 1, \"id\": \"5C2AA0F44CE9E4F152460DF3B1C91B25\", \"location\": \"Florida\"}, \"date_stayed\": \"October 2012\", \"offering_id\": 93583, \"num_helpful_votes\": 0, \"date\": \"November 23, 2012\", \"id\": 146028635, \"via_mobile\": false}\n\nNo match on this line:\n\n\nNo match on this line:\n{\"ratings\": {\"service\": 4.0, \"cleanliness\": 4.0, \"overall\": 5.0, \"value\": 5.0, \"rooms\": 5.0, \"check_in_front_desk\": 3.0, \"business_service_(e_g_internet_access)\": 3.0, \"location\": 5.0}, \"title\": \"\\u201cgreat value\\u201d\", \"text\": \"stayed at the Salisbury with husband and two teenagers. we booked a suite. It was huge. bedroom had two large double beds. Massive sitting room with a sofa bed. the bathroom had two sinks and was very roomy. As the temperatures were in the high nineties the large fridge was very welcome. The location is terrific - spitting distance from both tiffany's and Central Park. Free breakfast was very handy though a bit carb heavy. would definitely stay again a\\ d would recommend it to any families. Very close to the russian Tea rooms.\", \"author\": {\"username\": \"fiona229\", \"num_cities\": 37, \"num_helpful_votes\": 92, \"num_reviews\": 84, \"num_type_reviews\": 38, \"id\": \"506FE5F612ED806A785932C9CD7F194B\", \"location\": \"\"}, \"date_stayed\": \"August 2007\", \"offering_id\": 93346, \"num_helpful_votes\": 1, \"date\": \"August 28, 2007\", \"id\": 8524369, \"via_mobile\": false}\n\nNo match on this line:\n\n\nNo match on this line:\n{\"ratings\": {\"service\": 5.0, \"cleanliness\": 5.0, \"overall\": 5.0, \"value\": 5.0, \"location\": 5.0, \"sleep_quality\": 5.0, \"rooms\": 5.0}, \"title\": \"\\u201cThere ain't a THING wrong with the Downtowner\\u201d\", \"text\": \"After reading the 2 previous less then stellar reviews, I had a little trepidation about my upcoming stay. What it isn't is the Marriott or Hilton. What it IS is clean, comfortable and very affordable($67.00\\ ight). Carpet and bathroom tile looked almost new, no mildew (see pics) King bed was both clean (maid changed it daily) and firm. No issue with any of the amenities. AC will run you out of the room if you leave it on high. Wi-Fi works fine, a little slow at times, and will boot you if you're inactive for an hour or two, but never any connection issues. Staff could not have been nicer. The balconies, btw, are only accessible by the room occupants, not the street, or even other guests. This is NOT A \\\"bad\\\" neighborhood, IMO; I did plenty of walking around at all hours with no confrontations. Maybe the odd homeless person asking for change, but hey, it is Hollywood. I'm not sure what happened between the 1st and the 11th, or maybe the other reviewers are just way pickier than me, but I will absolutely stay here again. Free breakfast was also very good.\", \"author\": {\"username\": \"goatatl\", \"num_reviews\": 1, \"id\": \"DC44193F54EFDB9ACAB42D6E37C0E866\", \"location\": \"Atlanta GA\"}, \"date_stayed\": \"May 2012\", \"offering_id\": 268977, \"num_helpful_votes\": 0, \"date\": \"May 15, 2012\", \"id\": 129990934, \"via_mobile\": false}\n\nNo match on this line:\n\n\nNo match on this line:\n{\"ratings\": {\"service\": 1.0, \"cleanliness\": 1.0, \"overall\": 2.0, \"value\": 1.0, \"location\": 3.0, \"sleep_quality\": 2.0, \"rooms\": 4.0}, \"title\": \"\\u201cNot as good as you think\\u201d\", \"text\": \"We stayed here with friends for 4 days in August. We booked thinking since it was a JW, you would get outstanding service and a great hotel.  The Good Beautiful hotel - the architicture and design is incredible Amenities - Golf course, spa, great pool, all you would expect with a elite hotel The Bad Poor service - Our friends room didn't have a TV remote, no bedding for a pull out (had to call twice for both), staff didn't seem to know where things where, in the resteraunts, expect to wait for food and service. The pool service was awful.  Dirty pool - Its a new hotel so i'm sure they are working things out, but the pool had a large layer of soot. Also many people were complaining about the burns on their feet from the concrete at he pool.  Expensive - Expect to pay $175 to play golf (in August?), pay for use of the spa fitness area (included in Ritz\\\\Four Seasons hotels), the hotel cost $320\\ ight plus a $25 resort fee.  Location - Its a really nice area but bring your mountain climbing gear to get from the parking lot to the hotel.  For about $350 a night, this hotel is not worth it!\", \"author\": {\"username\": \"RPKTexas\", \"num_cities\": 2, \"num_reviews\": 3, \"num_type_reviews\": 3, \"id\": \"1566F8888F3D33448F525429B22C7CBD\", \"location\": \"Coppell, Texas\"}, \"date_stayed\": \"August 2010\", \"offering_id\": 1584731, \"num_helpful_votes\": 0, \"date\": \"August 8, 2010\", \"id\": 74286386, \"via_mobile\": false}\n\nNo match on this line:\n\n\nNo match on this line:\n{\"ratings\": {\"service\": 5.0, \"cleanliness\": 5.0, \"overall\": 5.0, \"value\": 4.0, \"rooms\": 5.0, \"location\": 5.0}, \"title\": \"\\u201cExtremely Nice Hotel - Convenient Location\\u201d\", \"text\": \"I stayed at this hotel in June 2009 due to it's close location to the airport. The Hampton Inn - Jacksonville Airport is consistent with all of the Hampton Inn's that I have stayed at. I was very surprised at how large the rooms were in comparison to other Hampton hotels!  The Good  - Large Rooms  - Comfortable Bedding (consistent with all Hampton Hotels)   - Quality Furnishing(s) and Room Decor  - Clean\\ ice Outdoor Pool and Hot Tub  - Close to Airport  - Friendly\\\\Helpful Staff The Neutral  - Breakfast was just \\\"OK\\\" in comparison to other hotels in this chain The Bad  - Absolutely Nothing! You can never go wrong in staying at a Hampton as their quality is consistent across the board. I will definitely stay at this hotel in the future.\", \"author\": {\"username\": \"eedwards\", \"num_cities\": 10, \"num_helpful_votes\": 16, \"num_reviews\": 30, \"num_type_reviews\": 13, \"id\": \"EB8788427FCB006BEEE398AC9A924641\", \"location\": \"St. Augustine, Florida\"}, \"date_stayed\": \"June 2009\", \"offering_id\": 610906, \"num_helpful_votes\": 1, \"date\": \"July 27, 2009\", \"id\": 35988163, \"via_mobile\": false}\n\nNo match on this line:\n\n\nNo match on this line:\n{\"ratings\": {\"service\": 4.0, \"cleanliness\": 4.0, \"overall\": 4.0, \"value\": 3.0, \"location\": 5.0, \"sleep_quality\": 4.0, \"rooms\": 4.0}, \"title\": \"\\u201cFantastic location....very clean, comfortable beds\\u201d\", \"text\": \"The only negative things I can say about this hotel is: 1. no mini fridge? 2. parking is $40\\ ight!? Otherwise it was great.\", \"author\": {\"username\": \"IMOGG\", \"num_cities\": 9, \"num_helpful_votes\": 11, \"num_reviews\": 13, \"num_type_reviews\": 10, \"id\": \"6317492EBBE5141C2BDC94310E8E45B2\", \"location\": \"Boston\"}, \"date_stayed\": \"December 2011\", \"offering_id\": 89602, \"num_helpful_votes\": 1, \"date\": \"January 5, 2012\", \"id\": 122580534, \"via_mobile\": false}\n\nNo match on this line:\n\n\n878554 correctly parsed lines, 14 incorrectly parsed lines\nChargement des données fini, 878554 correctly parsed lines, 14 incorrectly parsed lines\n"
    }
   ],
   "source": [
    "with open(DATASET_PATH, 'r', encoding=\"utf8\") as f:\n",
    "    data = []\n",
    "    broken_lines = 0\n",
    "    for line in f:\n",
    "        match = RE.fullmatch(line.strip())\n",
    "        if match:\n",
    "            fields = match.groups()\n",
    "\n",
    "            # if the correct number of fields where found\n",
    "            if len(fields) == len(COLUMNS):\n",
    "                data.append({column: field for column, field in zip(COLUMNS, fields)})\n",
    "            else:\n",
    "                broken_lines += 1\n",
    "                print(\"Not the correct number of match on this line:\")\n",
    "                print(line)\n",
    "        else:\n",
    "            broken_lines += 1\n",
    "            print(\"No match on this line:\")\n",
    "            print(line)\n",
    "            \n",
    "    \n",
    "    print(f\"{len(data)} correctly parsed lines, {broken_lines} incorrectly parsed lines\")\n",
    "#df = pd.read_csv(DATASET_ARCHIVE_PATH, sep='\\;\\;', names=COLUMNS, header=None, error_bad_lines=False)\n",
    "#clear_output()\n",
    "df = pd.DataFrame.from_records(data)\n",
    "print(f\"Chargement des données fini, {len(data)} correctly parsed lines, {broken_lines} incorrectly parsed lines\")"
   ]
  },
  {
   "cell_type": "code",
   "execution_count": 75,
   "metadata": {},
   "outputs": [
    {
     "data": {
      "text/html": "<div>\n<style scoped>\n    .dataframe tbody tr th:only-of-type {\n        vertical-align: middle;\n    }\n\n    .dataframe tbody tr th {\n        vertical-align: top;\n    }\n\n    .dataframe thead th {\n        text-align: right;\n    }\n</style>\n<table border=\"1\" class=\"dataframe\">\n  <thead>\n    <tr style=\"text-align: right;\">\n      <th></th>\n      <th>id_review</th>\n      <th>rating</th>\n      <th>review_title</th>\n      <th>review_text</th>\n      <th>user_pseudo</th>\n      <th>user_location</th>\n      <th>hotel_id</th>\n      <th>date_stayed</th>\n      <th>date_review</th>\n    </tr>\n  </thead>\n  <tbody>\n    <tr>\n      <td>0</td>\n      <td>147643103</td>\n      <td>5.0</td>\n      <td>Truly is \"Jewel of the Upper Wets Side\"</td>\n      <td>Stayed in a king suite for 11 nights and yes i...</td>\n      <td>Papa_Panda</td>\n      <td>Gold Coast</td>\n      <td>93338</td>\n      <td>December 2012</td>\n      <td>December 17, 2012</td>\n    </tr>\n    <tr>\n      <td>1</td>\n      <td>147639004</td>\n      <td>5.0</td>\n      <td>My home away from home!</td>\n      <td>On every visit to NYC, the Hotel Beacon is the...</td>\n      <td>Maureen V</td>\n      <td>Sydney, New South Wales, Australia</td>\n      <td>93338</td>\n      <td>December 2012</td>\n      <td>December 17, 2012</td>\n    </tr>\n    <tr>\n      <td>2</td>\n      <td>147697954</td>\n      <td>4.0</td>\n      <td>Great Stay</td>\n      <td>This is a great property in Midtown. We two di...</td>\n      <td>vuguru</td>\n      <td>Houston</td>\n      <td>1762573</td>\n      <td>December 2012</td>\n      <td>December 18, 2012</td>\n    </tr>\n  </tbody>\n</table>\n</div>",
      "text/plain": "   id_review rating                             review_title  \\\n0  147643103    5.0  Truly is \"Jewel of the Upper Wets Side\"   \n1  147639004    5.0                  My home away from home!   \n2  147697954    4.0                               Great Stay   \n\n                                         review_text user_pseudo  \\\n0  Stayed in a king suite for 11 nights and yes i...  Papa_Panda   \n1  On every visit to NYC, the Hotel Beacon is the...   Maureen V   \n2  This is a great property in Midtown. We two di...      vuguru   \n\n                        user_location hotel_id    date_stayed  \\\n0                          Gold Coast    93338  December 2012   \n1  Sydney, New South Wales, Australia    93338  December 2012   \n2                             Houston  1762573  December 2012   \n\n         date_review  \n0  December 17, 2012  \n1  December 17, 2012  \n2  December 18, 2012  "
     },
     "execution_count": 75,
     "metadata": {},
     "output_type": "execute_result"
    }
   ],
   "source": [
    "df.head(3)"
   ]
  },
  {
   "cell_type": "code",
   "execution_count": null,
   "metadata": {},
   "outputs": [],
   "source": [
    "def process_id_review(df):\n",
    "    \"\"\" supprimer, remplacer par l'identifiant de la ligne donnée \"\"\"\n",
    "    #\"id_review\""
   ]
  },
  {
   "cell_type": "code",
   "execution_count": 77,
   "metadata": {},
   "outputs": [
    {
     "name": "stdout",
     "output_type": "stream",
     "text": "0\n"
    },
    {
     "data": {
      "text/plain": "(array([3468, 3468, 1283, ..., 3173, 3173, 3173]), LabelEncoder())"
     },
     "execution_count": 77,
     "metadata": {},
     "output_type": "execute_result"
    }
   ],
   "source": [
    "def process_hotel_id(df, nan_value=\"UNK\"):\n",
    "    \"\"\"label encode\n",
    "    \"\"\"\n",
    "    #\"hotel_id\"\n",
    "    # Gestion des valeurs manquantes NaN\n",
    "    hotel_ids = df['hotel_id']\n",
    "    print(hotel_ids.isna().sum())\n",
    "    hotel_ids.fillna(\"UNK\")\n",
    "\n",
    "    # Entrainer le LabelEncoder sur les noms d'hotel\n",
    "    label_encoder = preprocessing.LabelEncoder()\n",
    "    label_encoder.fit(hotel_ids.values)\n",
    "    \n",
    "    # Encoder les hotels avec le LabelEncoder\n",
    "    hotel_ids_encoded = label_encoder.transform(hotel_ids.values)\n",
    "    \n",
    "    return hotel_ids_encoded, label_encoder\n",
    "process_hotel_id(df)"
   ]
  },
  {
   "cell_type": "code",
   "execution_count": null,
   "metadata": {},
   "outputs": [],
   "source": [
    "def process_user_location(df):\n",
    "    \"\"\"Utilise un \"\"\"\n",
    "    #\"user_location\"\n",
    "    # transforme en dictionaire"
   ]
  },
  {
   "cell_type": "code",
   "execution_count": null,
   "metadata": {},
   "outputs": [],
   "source": [
    "def process_rating(df):\n",
    "    \"rating\"\n",
    "    # tel quel ([1,5])"
   ]
  },
  {
   "cell_type": "code",
   "execution_count": null,
   "metadata": {},
   "outputs": [],
   "source": [
    "def process_user_pseudo(df):\n",
    "    \"user_pseudo\"\n",
    "    # nom utilisateur\n",
    "    # tel quel (text) ou label-encodé"
   ]
  },
  {
   "cell_type": "code",
   "execution_count": null,
   "metadata": {},
   "outputs": [],
   "source": [
    "def process_expertise(df):\n",
    "    \"user_pseudo\"\n",
    "    \"review_number\"\n",
    "    # nb d'avis par utilisateur\n",
    "    # (log du nb d'avis par utilisateur)\n",
    "    # tanh du nb d'avis par utilisateur"
   ]
  },
  {
   "cell_type": "code",
   "execution_count": null,
   "metadata": {},
   "outputs": [],
   "source": [
    "def process_text(df):\n",
    "    \"review_title\"\n",
    "    \"review_text\"\n",
    "    # titre (review_title) & text (review_text) review\n",
    "    # sentiment analysis basé sur la moyenne des score sur les mots reconnus\n",
    "    #   positivité score\n",
    "    #   negativité score\n",
    "    #   objectivité score\n",
    "    # keywords: ???"
   ]
  },
  {
   "cell_type": "code",
   "execution_count": 78,
   "metadata": {},
   "outputs": [
    {
     "name": "stdout",
     "output_type": "stream",
     "text": "67620/878554 dates de séjour manquantes, complétées en retranchant l'écart moyen entre le séjour et l'avis (52 days 06:03:52.744958) à la date de l'avis.\nLa date la plus récente du set de donnée est '2012-12-20 00:00:00', utilisée comme 'date actuelle'.\n"
    },
    {
     "data": {
      "text/plain": "(0               16 days 00:00:00\n 1               16 days 00:00:00\n 2               17 days 00:00:00\n 3              138 days 00:00:00\n 4               16 days 00:00:00\n                    ...          \n 878549   52 days 06:03:52.744958\n 878550          17 days 00:00:00\n 878551        -74 days +00:00:00\n 878552        -91 days +00:00:00\n 878553          12 days 00:00:00\n Length: 878554, dtype: timedelta64[ns], 0                 19 days 00:00:00\n 1                 19 days 00:00:00\n 2                 19 days 00:00:00\n 3                141 days 00:00:00\n 4                 19 days 00:00:00\n                     ...           \n 878549   1624 days 06:03:52.744958\n 878550          1633 days 00:00:00\n 878551          1633 days 00:00:00\n 878552          1633 days 00:00:00\n 878553          1755 days 00:00:00\n Name: date_stayed, Length: 878554, dtype: timedelta64[ns])"
     },
     "execution_count": 78,
     "metadata": {},
     "output_type": "execute_result"
    }
   ],
   "source": [
    "def process_dates(df, verbose=False):\n",
    "    \"\"\"date postage (date_review) & sejour (date_stayed)\n",
    "    écart séjour et avis, écart séjour avec la date \"actuelle\" (date la plus récente du dataset)\"\"\"\n",
    "    #\"date_review\" \"Month 31, 2020\" -> \"%B %d, %Y\"\n",
    "    #\"date_stayed\" \"Month 2020\" -> \"%B %Y\"\n",
    "    review_date = pd.to_datetime(df[\"date_review\"], format=\"%B %d, %Y\")\n",
    "    stay_date = pd.to_datetime(df[\"date_stayed\"], format=\"%B %Y\", errors=\"coerce\")\n",
    "    stay_date_missing = pd.isnull(stay_date)\n",
    "    stay_date_present = ~stay_date_missing\n",
    "\n",
    "    # completer séjour manquant avec date avis - écart séjour et avis moyen\n",
    "    known_date_gap = review_date[stay_date_present] - stay_date[stay_date_present]\n",
    "    average_date_gap = known_date_gap.mean()\n",
    "    stay_date[stay_date_missing] = review_date[stay_date_missing] - average_date_gap\n",
    "\n",
    "    if verbose: print(f\"{stay_date_missing.sum()}/{len(stay_date_missing)} dates de séjour manquantes, complétées en retranchant l'écart moyen entre le séjour et l'avis ({average_date_gap}) à la date de l'avis.\")\n",
    "\n",
    "    # écart séjour et avis\n",
    "    date_gap = review_date - stay_date\n",
    "\n",
    "    # écart séjour avec la date \"actuelle\" (date la plus récente du dataset)\n",
    "    most_recent_date = max(stay_date.max(), review_date.max())\n",
    "    if verbose: print(f\"La date la plus récente du set de donnée est '{most_recent_date}', utilisée comme 'date actuelle'.\")\n",
    "    stay_date_gap = most_recent_date - stay_date\n",
    "\n",
    "    return date_gap, stay_date_gap\n",
    "\n",
    "process_dates(df, True)"
   ]
  },
  {
   "cell_type": "code",
   "execution_count": 40,
   "metadata": {},
   "outputs": [],
   "source": [
    "process_dates(df)"
   ]
  },
  {
   "cell_type": "code",
   "execution_count": null,
   "metadata": {},
   "outputs": [],
   "source": []
  }
 ]
}